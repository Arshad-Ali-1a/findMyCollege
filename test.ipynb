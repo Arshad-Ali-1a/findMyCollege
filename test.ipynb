{
 "cells": [
  {
   "cell_type": "code",
   "execution_count": 1,
   "metadata": {},
   "outputs": [],
   "source": [
    "from colleges import *"
   ]
  },
  {
   "cell_type": "code",
   "execution_count": 11,
   "metadata": {},
   "outputs": [
    {
     "name": "stdout",
     "output_type": "stream",
     "text": [
      "{'MGIT': College(MGIT), 'KMIT': College(KMIT), 'VMEG': College(VMEG), 'IARE': College(IARE), 'MVSR': College(MVSR), 'SNIS': College(SNIS), 'JNKR': College(JNKR), 'KITS': College(KITS), 'KUCE': College(KUCE), 'CMRN': College(CMRN), 'CMRM': College(CMRM), 'SRHP': College(SRHP), 'VBIT': College(VBIT), 'MRTN': College(MRTN), 'KMEC': College(KMEC), 'JBIT': College(JBIT), 'INDU': College(INDU), 'MLRS': College(MLRS), 'CMRG': College(CMRG), 'VGNT': College(VGNT), 'OUCE': College(OUCE), 'CBIT': College(CBIT), 'JNTH': College(JNTH), 'JNTHMT': College(JNTHMT), 'VASV': College(VASV), 'VJEC': College(VJEC), 'CVRH': College(CVRH), 'BVRI': College(BVRI), 'GRRR': College(GRRR), 'JNTS': College(JNTS), 'MLRD': College(MLRD), 'JOGI': College(JOGI), 'OUCT': College(OUCT), 'CMRK': College(CMRK), 'VJIT': College(VJIT), 'JNTM': College(JNTM), 'PALV': College(PALV), 'KPRT': College(KPRT), 'BSKR': College(BSKR), 'CVSR': College(CVSR), 'MECS': College(MECS), 'KUWL': College(KUWL), 'NGIT': College(NGIT), 'GNIT': College(GNIT), 'MLID': College(MLID), 'JNTR': College(JNTR), 'GCTC': College(GCTC), 'VAGE': College(VAGE)}\n"
     ]
    }
   ],
   "source": [
    "print(College.instances)"
   ]
  },
  {
   "cell_type": "code",
   "execution_count": 12,
   "metadata": {},
   "outputs": [
    {
     "name": "stdout",
     "output_type": "stream",
     "text": [
      "MGIT MAHATMA GANDHI INSTITUTE OF TECHNOLOGY\n",
      "KMIT KESHAV MEMORIAL INST OF TECHNOLOGY\n",
      "VMEG VARDHAMAN COLLEGE OF ENGINEERING\n",
      "IARE INSTITUTE OF AERONAUTICAL ENGINEERING\n",
      "MVSR M V S R ENGINEERING COLLEGE (AUTONOMOUS)\n",
      "SNIS SRINIDHI INSTITUTE OF SCI AND TECHNOLOGY\n",
      "JNKR JNTUH UNIVERSITY COLLEGE OF ENGINEERING JAGITIAL\n",
      "KITS KAKATIYA INSTITUTE OF TECHNOLOGY AND SCI\n",
      "KUCE K U COLLEGE OF ENGG KOTHAGUDEM\n",
      "CMRN CMR ENGG COLLEGE (AUTONOMOUS)\n",
      "CMRM CMR INSTITUTE OF TECHNOLOGY (AUTONOMOUS)\n",
      "SRHP SR UNIVERSITY ( FORMERLY S R ENGINEERING COLLEGE)\n",
      "VBIT VIGNAN BHARATI INSTITUTE OF TECHNOLOGY (AUTONOMOUS)\n",
      "MRTN ST MARTINS ENGINEERING COLLEGE (AUTONOMOUS)\n",
      "KMEC KESHAV MEMORIAL ENGINEERING COLLEGE\n",
      "JBIT J B INSTITUTE OF ENGG AND TECHNOLOGY (AUTONOMOUS)\n",
      "INDU SRI INDU COLLEGE OF ENGG AND TECHNOLOGY (AUTONOMOUS)\n",
      "MLRS MARRI LAXMAN REDDY INST OF TECHNOLOGY AND MANAGEMENT (AUTONOMOUS)\n",
      "CMRG CMR TECHNICAL CAMPUS (AUTONOMOUS)\n",
      "VGNT VIGNAN INSTITUTE OF TECHNOLOGY AND SCI\n",
      "OUCE O U COLLEGE OF ENGG HYDERABAD\n",
      "CBIT CHAITANYA BHARATHI INSTITUTE OF TECHNOLOGY\n",
      "JNTH JNTUH UNIVERSITY COLLEGE OF ENGG HYDERABAD\n",
      "JNTHMT JNTUH UNIVERSITY COLLEGE OF ENGG -5 YEAR INTEGRATED MTECH SELF FINANCE\n",
      "VASV VASAVI COLLEGE OF ENGINEERING\n",
      "VJEC V N R VIGNANA JYOTHI INSTITUTE OF ENGG AND TECH\n",
      "CVRH CVR COLLEGE OF ENGINEERING\n",
      "BVRI B V RAJU INSTITUTE OF TECHNOLOGY\n",
      "GRRR GOKARAJU RANGARAJU INSTITUTE OF ENGG AND TECH\n",
      "JNTS JNTUH UNIVERSITY COLLEGE OF ENGINEERING SULTANPUR\n",
      "MLRD MALLA REDDY COLLEGE OF ENGG TECHNOLOGY (AUTONOMOUS)\n",
      "JOGI JOGINPALLY B R ENGINEERING COLLEGE\n",
      "OUCT O U COLLEGE OF TECH HYDERABAD\n",
      "CMRK C M R COLLEGE OF ENGG AND TECHNOLOGY (AUTONOMOUS)\n",
      "VJIT VIDYAJYOTHI INSTITUTE OF TECHNOLOGY\n",
      "JNTM JNTUH UNIVERSITY COLLEGE OF ENGG MANTHANI\n",
      "PALV PALLAVI ENGINEERING COLLEGE\n",
      "KPRT KOMMURI PRATAP REDDY INST OF TECHNOLOGY (AUTONOMOUS)\n",
      "BSKR BHASKAR ENGINEERING COLLEGE\n",
      "CVSR ANURAG UNIVERSITY (FORMERLY ANURAG GRP OF INSTNS- CVSR COLL OF ENGG)\n",
      "MECS MATRUSRI ENGINEERING COLLEGE\n",
      "KUWL KU COLLEGE OF ENGINEERING AND TECHNOLOGY\n",
      "NGIT NEIL GOGTE INST OF TECHNOLOGY\n",
      "GNIT GURU NANAK INSTITUTIONS TECHNICAL CAMPUS (AUTONOMOUS)\n",
      "MLID M L R INSTITUTE OF TECHNOLOGY (AUTONOMOUS)\n",
      "JNTR JNTUH UNIVERSITY COLLEGE OF ENGINEERING RAJANNA SIRCILLA\n",
      "GCTC GEETANJALI COLLEGE OF ENGG AND TECHNOLOGY (AUTONOMOUS)\n",
      "VAGE VAAGDEVI COLLEGE OF ENGINEERING\n"
     ]
    }
   ],
   "source": [
    "for college in College.instances.values():\n",
    "    print(college,college.name)"
   ]
  },
  {
   "cell_type": "code",
   "execution_count": 13,
   "metadata": {},
   "outputs": [
    {
     "data": {
      "text/plain": [
       "{'code': 'KMIT',\n",
       " 'college': 'KESHAV MEMORIAL INST OF TECHNOLOGY',\n",
       " 'coed': True,\n",
       " 'minority': None,\n",
       " 'region': 'OU',\n",
       " 'aided': False,\n",
       " 'pvt': True,\n",
       " 'phone': '040-23261407',\n",
       " 'address': 'NARAYANGUDA,HYDERABAD-29,500029',\n",
       " 'place': 'NARAYANAGUDA',\n",
       " 'hostel': None,\n",
       " 'district': 'HYDERABAD',\n",
       " 'year': 2007,\n",
       " 'email': 'principal@kmit.in',\n",
       " 'affiliated': 'JNTUH',\n",
       " 'website': 'https://www.kmit.in',\n",
       " 'fees': 103000,\n",
       " 'total_intake': 780,\n",
       " 'coordinates': [17.397256847456813, 78.49018166089405],\n",
       " 'branches': (CollegeBranch(CSE,KMIT),\n",
       "  CollegeBranch(CSM,KMIT),\n",
       "  CollegeBranch(CSD,KMIT),\n",
       "  CollegeBranch(INF,KMIT)),\n",
       " 'closing_rank': 4944}"
      ]
     },
     "execution_count": 13,
     "metadata": {},
     "output_type": "execute_result"
    }
   ],
   "source": [
    "KMIT.eamcet_info"
   ]
  },
  {
   "cell_type": "code",
   "execution_count": 16,
   "metadata": {},
   "outputs": [
    {
     "name": "stdout",
     "output_type": "stream",
     "text": [
      "CSE:KMIT 420\n",
      "CSM:KMIT 180\n",
      "CSD:KMIT 60\n",
      "INF:KMIT 120\n"
     ]
    }
   ],
   "source": [
    "for branch in KMIT.branches:\n",
    "    print(branch,branch.intake)"
   ]
  },
  {
   "cell_type": "code",
   "execution_count": 17,
   "metadata": {},
   "outputs": [
    {
     "data": {
      "text/plain": [
       "{'OC BOYS': 4944,\n",
       " 'OC GIRLS': 6052,\n",
       " 'BC_A BOYS': 16314,\n",
       " 'BC_A GIRLS': 19016,\n",
       " 'BC_B BOYS': 8101,\n",
       " 'BC_B GIRLS': 9724,\n",
       " 'BC_C BOYS': 28675,\n",
       " 'BC_C GIRLS': 28675,\n",
       " 'BC_D BOYS': 8666,\n",
       " 'BC_D GIRLS': 9439,\n",
       " 'BC_E BOYS': 16619,\n",
       " 'BC_E GIRLS': 26510,\n",
       " 'SC BOYS': 28798,\n",
       " 'SC GIRLS': 30695,\n",
       " 'ST BOYS': 13771,\n",
       " 'ST GIRLS': 23859}"
      ]
     },
     "execution_count": 17,
     "metadata": {},
     "output_type": "execute_result"
    }
   ],
   "source": [
    "KMIT.branches[0].clsrnk21"
   ]
  },
  {
   "cell_type": "code",
   "execution_count": 14,
   "metadata": {},
   "outputs": [
    {
     "data": {
      "text/plain": [
       "{'highest_salary': 44.0,\n",
       " 'lowest_salary': 3.0,\n",
       " 'salary_mode': 4.0,\n",
       " 'salary_mean': 6.86820415879017,\n",
       " 'salary_median': 5.5,\n",
       " 'total_offers': 1058,\n",
       " 'compaies_visited': 110,\n",
       " 'placement_data_year': 2022,\n",
       " 'placement_percent': 135.64}"
      ]
     },
     "execution_count": 14,
     "metadata": {},
     "output_type": "execute_result"
    }
   ],
   "source": [
    "KMIT.placement_info"
   ]
  },
  {
   "cell_type": "code",
   "execution_count": 5,
   "metadata": {},
   "outputs": [
    {
     "data": {
      "text/plain": [
       "('placement_percent',\n",
       " 'highest_salary',\n",
       " 'lowest_salary',\n",
       " 'salary_mode',\n",
       " 'salary_mean',\n",
       " 'salary_median',\n",
       " 'total_offers',\n",
       " 'companies_visited',\n",
       " 'year',\n",
       " 'total_intake',\n",
       " 'fees',\n",
       " 'probability',\n",
       " 'closing_rank',\n",
       " 'distance')"
      ]
     },
     "execution_count": 5,
     "metadata": {},
     "output_type": "execute_result"
    }
   ],
   "source": [
    "College.SORTING_KEYS"
   ]
  },
  {
   "cell_type": "code",
   "execution_count": 18,
   "metadata": {},
   "outputs": [
    {
     "name": "stdout",
     "output_type": "stream",
     "text": [
      "JNTH 276\n",
      "OUCE 449\n",
      "CBIT 741\n",
      "VASV 1118\n",
      "JNTHMT 1431\n",
      "VJEC 1474\n",
      "CVRH 2995\n",
      "GRRR 3321\n",
      "SNIS 3976\n",
      "MVSR 4532\n",
      "MGIT 4759\n",
      "KMIT 4944\n",
      "VMEG 5098\n",
      "BVRI 5769\n",
      "JNTS 5876\n",
      "JNKR 6987\n",
      "CVSR 7650\n",
      "MECS 8398\n",
      "IARE 8516\n",
      "KITS 8719\n",
      "CMRK 9751\n",
      "KUWL 10088\n",
      "NGIT 11095\n",
      "JNTM 11942\n",
      "GNIT 11954\n",
      "JNTR 13703\n",
      "MLID 15461\n",
      "VJIT 15576\n",
      "MLRD 15776\n",
      "GCTC 15958\n",
      "JBIT 16094\n",
      "CMRM 16330\n",
      "SRHP 16429\n",
      "OUCT 16743\n",
      "VBIT 17623\n",
      "KUCE 17687\n",
      "MLRS 18402\n",
      "CMRG 19105\n",
      "KMEC 21557\n",
      "MRTN 23259\n",
      "CMRN 23324\n",
      "INDU 24448\n",
      "VGNT 25120\n",
      "BSKR 33463\n",
      "VAGE 33627\n",
      "JOGI 41981\n",
      "PALV 44298\n",
      "KPRT 45033\n"
     ]
    }
   ],
   "source": [
    "for college in College.sort_colleges(\"closing_rank\"):\n",
    "    print(college,college.closing_rank)"
   ]
  },
  {
   "cell_type": "code",
   "execution_count": 19,
   "metadata": {},
   "outputs": [
    {
     "data": {
      "text/plain": [
       "{'coed': (True, False),\n",
       " 'aided': (True, False),\n",
       " 'pvt': (True, False),\n",
       " 'affiliated': ('JNTUH', 'OU', 'KU', 'SR UNIVERSITY', 'ANURAG UNIVERSITY'),\n",
       " 'year_before': (1925, 2021),\n",
       " 'hostel': ((True, False), 'gender'),\n",
       " 'total_intake_greater': (149, 1740),\n",
       " 'total_intake_lesser': (149, 1740),\n",
       " 'fees_greater': (35000, 140000),\n",
       " 'fees_lesser': (35000, 140000),\n",
       " 'salary_mean_greater': (2.9, 7.14),\n",
       " 'salary_median_greater': (2.87, 6.5),\n",
       " 'salary_mode_greater': (2.87, 11.75),\n",
       " 'highest_salary_greater': (3.5, 97),\n",
       " 'total_offers_greater': (25, 2472),\n",
       " 'companies_visited_greater': (7, 154),\n",
       " 'district_in': ('HYDERABAD',\n",
       "  'JAGTIAL',\n",
       "  'SANGAREDDY',\n",
       "  'PEDDAPALLI',\n",
       "  'YADADRI BHUVANAGIRI',\n",
       "  'WARANGAL',\n",
       "  'HANAMKONDA',\n",
       "  'BHADRADRI KOTHAGUDEM',\n",
       "  'RAJANNA SIRCILLA',\n",
       "  'RANGAREDDY',\n",
       "  'MEDCHAL',\n",
       "  'MEDAK'),\n",
       " 'distance_college_lesser': 'in km',\n",
       " 'probability_college_greater': (1, 100)}"
      ]
     },
     "execution_count": 19,
     "metadata": {},
     "output_type": "execute_result"
    }
   ],
   "source": [
    "College.FILTER_KEYS"
   ]
  },
  {
   "cell_type": "code",
   "execution_count": 22,
   "metadata": {},
   "outputs": [
    {
     "name": "stdout",
     "output_type": "stream",
     "text": [
      "KMIT HYDERABAD 0.349\n",
      "OUCE HYDERABAD 4.687\n",
      "VASV HYDERABAD 15.007\n",
      "OUCT HYDERABAD 7.944\n",
      "MECS HYDERABAD 25.172\n",
      "VAGE WARANGAL 153.543\n"
     ]
    }
   ],
   "source": [
    "for college in College.filter_colleges(district_in=[\"HYDERABAD\",\"WARANGAL\"]):\n",
    "    print(college,college.district,college.distance)"
   ]
  },
  {
   "cell_type": "code",
   "execution_count": 28,
   "metadata": {},
   "outputs": [
    {
     "data": {
      "text/plain": [
       "{'COMPUTER': {'CSE': 'COMPUTER SCIENCE AND ENGINEERING',\n",
       "  'CSM': 'COMPUTER SCIENCE AND ENGINEERING (ARTIFICIAL INTELLIGENCE AND MACHINE LEARNING)',\n",
       "  'CSC': 'COMPUTER SCIENCE AND ENGINEERING (CYBER SECURITY)',\n",
       "  'CSD': 'COMPUTER SCIENCE AND ENGINEERING (DATA SCIENCE)',\n",
       "  'CIC': 'CSE (IoT AND CYBER SECURITY INCLUDING BLOCK CHAIN TECHNOLOGY)',\n",
       "  'INF': 'INFORMATION TECHNOLOGY',\n",
       "  'CSO': 'COMPUTER SCIENCE AND ENGINEERING (IOT)',\n",
       "  'CSN': 'COMPUTER SCIENCE & ENGINEERING (NETWORKS)'},\n",
       " 'COMPUTER_2': {'CSB': 'COMPUTER SCIENCE AND BUSINESS SYSTEM',\n",
       "  'CSI': 'COMPUTER SCIENCE AND INFORMATION TECHNOLOGY',\n",
       "  'CST': 'COMPUTER SCIENCE AND TECHNOLOGY',\n",
       "  'AI': 'ARTIFICIAL INTELLIGENCE',\n",
       "  'AIM': 'ARTIFICIAL INTELLIGENCE AND MACHINE LEARNING',\n",
       "  'AID': 'ARTIFICIAL INTELLIGENCE AND DATA SCIENCE',\n",
       "  'CSG': 'COMPUTER SCIENCE & DESIGN',\n",
       "  'CME': 'COMPUTER ENGINEERING',\n",
       "  'CSW': 'COMPUTER ENGINEERING(SOFTWARE ENGINEERING)',\n",
       "  'ITE': 'INFORMATION TECHNOLOGY AND ENGINEERING'},\n",
       " 'ELECTRICAL': {'ECE': 'ELECTRONICS AND COMMUNICATION ENGINEERING',\n",
       "  'EEE': 'ELECTRICAL AND ELECTRONICS ENGINEERING',\n",
       "  'EIE': 'ELECTRONICS AND INSTRUMENTATION ENGINEERING'},\n",
       " 'COMPUTER_3': {'DTD': 'DIGITAL TECHNIQUES FOR DESIGN AND PLANNING'},\n",
       " 'ELECTRICAL_2': {'ECM': 'ELECTRONICS AND COMPUTER ENGINEERING',\n",
       "  'ECI': 'ELECTRONICS COMMUNICATION AND INSTRUMENTATION ENGINEERING',\n",
       "  'ETM': 'ELECTRONICS AND TELEMATICS'},\n",
       " 'MECHANICAL': {'MEC': 'MECHANICAL ENGINEERING',\n",
       "  'ANE': 'AERONAUTICAL ENGINEERING',\n",
       "  'MCT': 'MECHANICAL (MECHTRONICS) ENGINEERING',\n",
       "  'CIV': 'CIVIL ENGINEERING'},\n",
       " 'MECHANICAL_2': {'ARB': 'AUTOMATION AND ROBOTICS',\n",
       "  'AUT': 'AUTOMOBILE ENGINEERING',\n",
       "  'IPE': 'INDUSTRIAL PRODUCTION ENGINEERING',\n",
       "  'MET': 'METALLURGICAL ENGINEERING',\n",
       "  'MMT': 'METALLURGY AND MATERIAL ENGINEERING',\n",
       "  'MMS': 'BTECH MECHANICAL WITH MTECH MANUFACTURING SYSTEMS',\n",
       "  'MTE': 'BTECH MECHANICAL WITH MTECH THERMAL ENGG',\n",
       "  'PLG': 'PLANNING'},\n",
       " 'CHEMICAL': {'BIO': 'BIO-TECHNOLOGY',\n",
       "  'CHE': 'CHEMICAL ENGINEERING',\n",
       "  'BME': 'BIO-MEDICAL ENGINEERING',\n",
       "  'AGR': 'AGRICULTURAL ENGINEERING',\n",
       "  'DRG': 'DAIRYING',\n",
       "  'FDT': 'FOOD TECHNOLOGY',\n",
       "  'TEX': 'TEXTILE TECHNOLOGY',\n",
       "  'FSP': 'FACILITIES AND SERVICES PLANNING',\n",
       "  'PHE': 'PHARMACEUTICAL ENGINEERING',\n",
       "  'MIN': 'MINING ENGINEERING'},\n",
       " 'PHARMACY': {'PHM': 'B. PHARMACY (M.P.C. STREAM)',\n",
       "  'PHD': 'PHARM - D (M.P.C. STREAM)'}}"
      ]
     },
     "execution_count": 28,
     "metadata": {},
     "output_type": "execute_result"
    }
   ],
   "source": [
    "Branch.all_branches_category"
   ]
  },
  {
   "cell_type": "code",
   "execution_count": 26,
   "metadata": {},
   "outputs": [
    {
     "name": "stdout",
     "output_type": "stream",
     "text": [
      "MGIT 1.0\n",
      "KMIT 1.0\n",
      "VMEG 1.0\n",
      "IARE 1.0\n",
      "MVSR 1.0\n",
      "SNIS 1.0\n",
      "JNKR 1.0\n",
      "KITS 1.0\n",
      "KUCE 1.0\n",
      "CMRN 99.0\n",
      "CMRM 99.0\n",
      "SRHP 32.33\n",
      "VBIT 99.0\n",
      "MRTN 99.0\n",
      "KMEC 99.0\n",
      "JBIT 1.0\n",
      "INDU 99.0\n",
      "MLRS 99.0\n",
      "CMRG 99.0\n",
      "VGNT 99.0\n",
      "OUCE 1.0\n",
      "CBIT 1.0\n",
      "JNTH 1.0\n",
      "JNTHMT 1.0\n",
      "VASV 1.0\n",
      "VJEC 1.0\n",
      "CVRH 1.0\n",
      "BVRI 1.0\n",
      "GRRR 1.0\n",
      "JNTS 1.0\n",
      "MLRD 99.0\n",
      "JOGI 99.0\n",
      "OUCT 0\n",
      "CMRK 1.0\n",
      "VJIT 99.0\n",
      "JNTM 1.0\n",
      "PALV 99.0\n",
      "KPRT 99.0\n",
      "BSKR 99.0\n",
      "CVSR 1.0\n",
      "MECS 1.0\n",
      "KUWL 1.0\n",
      "NGIT 1.0\n",
      "GNIT 1.0\n",
      "MLID 99.0\n",
      "JNTR 1.0\n",
      "GCTC 99.0\n",
      "VAGE 99.0\n"
     ]
    }
   ],
   "source": [
    "College.chance_college(20145,\"Boys\",\"OC\",[\"COMPUTER\"])\n",
    "\n",
    "for college in College.instances.values():\n",
    "    print(college,college.probability)"
   ]
  },
  {
   "cell_type": "code",
   "execution_count": null,
   "metadata": {},
   "outputs": [],
   "source": [
    "College.calculate_dist((17.39710069782906, 78.49003054943614))"
   ]
  },
  {
   "cell_type": "code",
   "execution_count": 29,
   "metadata": {},
   "outputs": [
    {
     "data": {
      "image/png": "[encoded data removed]",
      "text/plain": [
       "<Figure size 1530x1190 with 1 Axes>"
      ]
     },
     "metadata": {},
     "output_type": "display_data"
    }
   ],
   "source": [
    "College.graph()"
   ]
  },
  {
   "cell_type": "code",
   "execution_count": 2,
   "metadata": {},
   "outputs": [
    {
     "name": "stdout",
     "output_type": "stream",
     "text": [
      "KMIT 44.0\n",
      "KITS 31.0\n",
      "SRHP 29.36\n",
      "VASV 61.0\n"
     ]
    }
   ],
   "source": [
    "for i in College.filter_colleges(district_in=(\"WARANGAL\",\"HYDERABAD\",\"HANAMKONDA\"),highest_salary_greater=22.5):\n",
    "    print(i,(i.highest_salary))"
   ]
  },
  {
   "cell_type": "code",
   "execution_count": 12,
   "metadata": {},
   "outputs": [
    {
     "data": {
      "text/plain": [
       "[CollegeBranch(CSE,OUCE),\n",
       " CollegeBranch(CSE,JNTH),\n",
       " CollegeBranch(CSM,JNTH),\n",
       " CollegeBranch(CSE,JNTHMT),\n",
       " CollegeBranch(CSE,KUCE),\n",
       " CollegeBranch(ECE,OUCE),\n",
       " CollegeBranch(EEE,OUCE),\n",
       " CollegeBranch(CSE,CBIT),\n",
       " CollegeBranch(CSM,CBIT),\n",
       " CollegeBranch(ECE,JNTH),\n",
       " CollegeBranch(EEE,JNTH),\n",
       " CollegeBranch(CSE,KITS),\n",
       " CollegeBranch(CIC,CBIT),\n",
       " CollegeBranch(CSM,KITS),\n",
       " CollegeBranch(INF,CBIT),\n",
       " CollegeBranch(MEC,OUCE),\n",
       " CollegeBranch(ECE,JNTHMT),\n",
       " CollegeBranch(EEE,JNTHMT),\n",
       " CollegeBranch(CSE,MVSR),\n",
       " CollegeBranch(INF,KITS),\n",
       " CollegeBranch(MEC,JNTH),\n",
       " CollegeBranch(CSO,KITS),\n",
       " CollegeBranch(CIV,OUCE),\n",
       " CollegeBranch(CSN,KITS),\n",
       " CollegeBranch(CSE,VASV),\n",
       " CollegeBranch(AIM,CBIT),\n",
       " CollegeBranch(CSM,VASV),\n",
       " CollegeBranch(INF,MVSR),\n",
       " CollegeBranch(AID,CBIT),\n",
       " CollegeBranch(BME,OUCE),\n",
       " CollegeBranch(CIV,JNTH),\n",
       " CollegeBranch(EEE,KUCE),\n",
       " CollegeBranch(CSE,VJEC),\n",
       " CollegeBranch(CHE,JNTH),\n",
       " CollegeBranch(CSM,VJEC),\n",
       " CollegeBranch(INF,VASV),\n",
       " CollegeBranch(CSC,VJEC),\n",
       " CollegeBranch(ECE,CBIT),\n",
       " CollegeBranch(CIV,JNTHMT),\n",
       " CollegeBranch(CSD,VJEC),\n",
       " CollegeBranch(EEE,CBIT),\n",
       " CollegeBranch(MET,JNTH),\n",
       " CollegeBranch(CSE,MGIT),\n",
       " CollegeBranch(CSM,MGIT),\n",
       " CollegeBranch(INF,VJEC),\n",
       " CollegeBranch(CSO,VJEC),\n",
       " CollegeBranch(ECE,KITS),\n",
       " CollegeBranch(CSD,MGIT),\n",
       " CollegeBranch(EEE,KITS),\n",
       " CollegeBranch(CSE,SNIS),\n",
       " CollegeBranch(CSB,VJEC),\n",
       " CollegeBranch(CHE,OUCT),\n",
       " CollegeBranch(CSM,SNIS),\n",
       " CollegeBranch(INF,MGIT),\n",
       " CollegeBranch(MEC,CBIT),\n",
       " CollegeBranch(MMS,JNTHMT),\n",
       " CollegeBranch(CSC,SNIS),\n",
       " CollegeBranch(ECE,MVSR),\n",
       " CollegeBranch(ECI,KITS),\n",
       " CollegeBranch(MTE,JNTHMT),\n",
       " CollegeBranch(CSD,SNIS),\n",
       " CollegeBranch(EEE,MVSR),\n",
       " CollegeBranch(CSE,BVRI),\n",
       " CollegeBranch(CSB,MGIT),\n",
       " CollegeBranch(CSM,BVRI),\n",
       " CollegeBranch(INF,SNIS),\n",
       " CollegeBranch(AID,VJEC),\n",
       " CollegeBranch(MEC,KITS),\n",
       " CollegeBranch(CSO,SNIS),\n",
       " CollegeBranch(ECE,VASV),\n",
       " CollegeBranch(CIV,CBIT),\n",
       " CollegeBranch(CSD,BVRI),\n",
       " CollegeBranch(EEE,VASV),\n",
       " CollegeBranch(BIO,CBIT),\n",
       " CollegeBranch(CSE,GRRR),\n",
       " CollegeBranch(CHE,CBIT),\n",
       " CollegeBranch(CSM,GRRR),\n",
       " CollegeBranch(INF,BVRI),\n",
       " CollegeBranch(MEC,MVSR),\n",
       " CollegeBranch(ECE,VJEC),\n",
       " CollegeBranch(CIV,KITS),\n",
       " CollegeBranch(FDT,OUCT),\n",
       " CollegeBranch(CSD,GRRR),\n",
       " CollegeBranch(EEE,VJEC),\n",
       " CollegeBranch(TEX,OUCT),\n",
       " CollegeBranch(CSE,JBIT),\n",
       " CollegeBranch(CSB,BVRI),\n",
       " CollegeBranch(EIE,VJEC),\n",
       " CollegeBranch(INF,GRRR),\n",
       " CollegeBranch(MEC,VASV),\n",
       " CollegeBranch(AUT,MVSR),\n",
       " CollegeBranch(ECE,MGIT),\n",
       " CollegeBranch(CIV,MVSR),\n",
       " CollegeBranch(EEE,MGIT),\n",
       " CollegeBranch(CSE,VAGE),\n",
       " CollegeBranch(CSB,GRRR),\n",
       " CollegeBranch(CSM,VAGE),\n",
       " CollegeBranch(INF,JBIT),\n",
       " CollegeBranch(AID,BVRI),\n",
       " CollegeBranch(MEC,VJEC),\n",
       " CollegeBranch(ECE,SNIS),\n",
       " CollegeBranch(CIV,VASV),\n",
       " CollegeBranch(MIN,KUCE),\n",
       " CollegeBranch(CSD,VAGE),\n",
       " CollegeBranch(EEE,SNIS),\n",
       " CollegeBranch(CSE,VMEG),\n",
       " CollegeBranch(CSM,VMEG),\n",
       " CollegeBranch(ECM,SNIS),\n",
       " CollegeBranch(MEC,MGIT),\n",
       " CollegeBranch(AUT,VJEC),\n",
       " CollegeBranch(ECE,BVRI),\n",
       " CollegeBranch(CIV,VJEC),\n",
       " CollegeBranch(EEE,BVRI),\n",
       " CollegeBranch(MCT,MGIT),\n",
       " CollegeBranch(CSE,VGNT),\n",
       " CollegeBranch(AIM,JBIT),\n",
       " CollegeBranch(CSM,VGNT),\n",
       " CollegeBranch(INF,VMEG),\n",
       " CollegeBranch(AID,JBIT),\n",
       " CollegeBranch(MEC,SNIS),\n",
       " CollegeBranch(ECE,GRRR),\n",
       " CollegeBranch(CIV,MGIT),\n",
       " CollegeBranch(CSD,VGNT),\n",
       " CollegeBranch(EEE,GRRR),\n",
       " CollegeBranch(CSE,VJIT),\n",
       " CollegeBranch(INF,VGNT),\n",
       " CollegeBranch(MEC,BVRI),\n",
       " CollegeBranch(ECE,JBIT),\n",
       " CollegeBranch(CIV,SNIS),\n",
       " CollegeBranch(CSD,VJIT),\n",
       " CollegeBranch(EEE,JBIT),\n",
       " CollegeBranch(CSE,IARE),\n",
       " CollegeBranch(AIM,VMEG),\n",
       " CollegeBranch(MMT,MGIT),\n",
       " CollegeBranch(CSM,IARE),\n",
       " CollegeBranch(INF,VJIT),\n",
       " CollegeBranch(AID,VMEG),\n",
       " CollegeBranch(ECM,JBIT),\n",
       " CollegeBranch(MEC,GRRR),\n",
       " CollegeBranch(CSC,IARE),\n",
       " CollegeBranch(ECE,VAGE),\n",
       " CollegeBranch(CIV,BVRI),\n",
       " CollegeBranch(CSD,IARE),\n",
       " CollegeBranch(EEE,VAGE),\n",
       " CollegeBranch(CSE,INDU),\n",
       " CollegeBranch(CHE,BVRI),\n",
       " CollegeBranch(CSM,INDU),\n",
       " CollegeBranch(INF,IARE),\n",
       " CollegeBranch(AID,VGNT),\n",
       " CollegeBranch(MEC,JBIT),\n",
       " CollegeBranch(BME,BVRI),\n",
       " CollegeBranch(CSC,INDU),\n",
       " CollegeBranch(ECE,VMEG),\n",
       " CollegeBranch(CIV,GRRR),\n",
       " CollegeBranch(CSD,INDU),\n",
       " CollegeBranch(AI,VJIT),\n",
       " CollegeBranch(EEE,VMEG),\n",
       " CollegeBranch(CSE,CVRH),\n",
       " CollegeBranch(CSM,CVRH),\n",
       " CollegeBranch(INF,INDU),\n",
       " CollegeBranch(CSI,IARE),\n",
       " CollegeBranch(MEC,VAGE),\n",
       " CollegeBranch(CSC,CVRH),\n",
       " CollegeBranch(CSO,INDU),\n",
       " CollegeBranch(ECE,VGNT),\n",
       " CollegeBranch(CIV,JBIT),\n",
       " CollegeBranch(CSD,CVRH),\n",
       " CollegeBranch(EEE,VGNT),\n",
       " CollegeBranch(CSE,GNIT),\n",
       " CollegeBranch(EIE,VGNT),\n",
       " CollegeBranch(CSM,GNIT),\n",
       " CollegeBranch(INF,CVRH),\n",
       " CollegeBranch(CSI,INDU),\n",
       " CollegeBranch(MEC,VMEG),\n",
       " CollegeBranch(CSC,GNIT),\n",
       " CollegeBranch(ECE,VJIT),\n",
       " CollegeBranch(CIV,VAGE),\n",
       " CollegeBranch(CSD,GNIT),\n",
       " CollegeBranch(EEE,VJIT),\n",
       " CollegeBranch(CSE,SRHP),\n",
       " CollegeBranch(INF,GNIT),\n",
       " CollegeBranch(AID,INDU),\n",
       " CollegeBranch(MEC,VGNT),\n",
       " CollegeBranch(PHE,BVRI),\n",
       " CollegeBranch(CSO,GNIT),\n",
       " CollegeBranch(ECE,IARE),\n",
       " CollegeBranch(CIV,VMEG),\n",
       " CollegeBranch(EEE,IARE),\n",
       " CollegeBranch(CSE,MRTN),\n",
       " CollegeBranch(CSM,MRTN),\n",
       " CollegeBranch(MEC,VJIT),\n",
       " CollegeBranch(ECE,INDU),\n",
       " CollegeBranch(CIV,VGNT),\n",
       " CollegeBranch(EEE,INDU),\n",
       " CollegeBranch(CSE,JOGI),\n",
       " CollegeBranch(CSM,JOGI),\n",
       " CollegeBranch(INF,MRTN),\n",
       " CollegeBranch(AID,GNIT),\n",
       " CollegeBranch(MEC,IARE),\n",
       " CollegeBranch(ECE,CVRH),\n",
       " CollegeBranch(ANE,IARE),\n",
       " CollegeBranch(CIV,VJIT),\n",
       " CollegeBranch(MIN,JBIT),\n",
       " CollegeBranch(EEE,CVRH),\n",
       " CollegeBranch(CSE,CMRK),\n",
       " CollegeBranch(EIE,CVRH),\n",
       " CollegeBranch(CSM,CMRK),\n",
       " CollegeBranch(INF,JOGI),\n",
       " CollegeBranch(MEC,INDU),\n",
       " CollegeBranch(CSC,CMRK),\n",
       " CollegeBranch(ECE,GNIT),\n",
       " CollegeBranch(CIV,IARE),\n",
       " CollegeBranch(CSD,CMRK),\n",
       " CollegeBranch(EEE,GNIT),\n",
       " CollegeBranch(CSE,CVSR),\n",
       " CollegeBranch(AIM,MRTN),\n",
       " CollegeBranch(INF,CMRK),\n",
       " CollegeBranch(AID,MRTN),\n",
       " CollegeBranch(MEC,CVRH),\n",
       " CollegeBranch(CSG,MRTN),\n",
       " CollegeBranch(ECE,SRHP),\n",
       " CollegeBranch(CIV,INDU),\n",
       " CollegeBranch(EEE,SRHP),\n",
       " CollegeBranch(CSE,VBIT),\n",
       " CollegeBranch(CSM,VBIT),\n",
       " CollegeBranch(INF,CVSR),\n",
       " CollegeBranch(MEC,GNIT),\n",
       " CollegeBranch(CSC,VBIT),\n",
       " CollegeBranch(ECE,MRTN),\n",
       " CollegeBranch(CIV,CVRH),\n",
       " CollegeBranch(CSD,VBIT),\n",
       " CollegeBranch(EEE,MRTN),\n",
       " CollegeBranch(CSE,MLRD),\n",
       " CollegeBranch(AIM,CMRK),\n",
       " CollegeBranch(CSM,MLRD),\n",
       " CollegeBranch(INF,VBIT),\n",
       " CollegeBranch(MEC,SRHP),\n",
       " CollegeBranch(CSC,MLRD),\n",
       " CollegeBranch(ECE,JOGI),\n",
       " CollegeBranch(CIV,GNIT),\n",
       " CollegeBranch(CSD,MLRD),\n",
       " CollegeBranch(AI,CVSR),\n",
       " CollegeBranch(EEE,JOGI),\n",
       " CollegeBranch(CSE,CMRM),\n",
       " CollegeBranch(CSB,VBIT),\n",
       " CollegeBranch(CSM,CMRM),\n",
       " CollegeBranch(INF,MLRD),\n",
       " CollegeBranch(MEC,MRTN),\n",
       " CollegeBranch(CSO,MLRD),\n",
       " CollegeBranch(ECE,CMRK),\n",
       " CollegeBranch(CIV,SRHP),\n",
       " CollegeBranch(CSD,CMRM),\n",
       " CollegeBranch(EEE,CMRK),\n",
       " CollegeBranch(CSE,MLID),\n",
       " CollegeBranch(CSM,MLID),\n",
       " CollegeBranch(MEC,JOGI),\n",
       " CollegeBranch(CSC,MLID),\n",
       " CollegeBranch(ECE,CVSR),\n",
       " CollegeBranch(CIV,MRTN),\n",
       " CollegeBranch(CSD,MLID),\n",
       " CollegeBranch(EEE,CVSR),\n",
       " CollegeBranch(CSE,GCTC),\n",
       " CollegeBranch(AIM,MLRD),\n",
       " CollegeBranch(CSM,GCTC),\n",
       " CollegeBranch(INF,MLID),\n",
       " CollegeBranch(MEC,CMRK),\n",
       " CollegeBranch(CSC,GCTC),\n",
       " CollegeBranch(ECE,VBIT),\n",
       " CollegeBranch(CSD,GCTC),\n",
       " CollegeBranch(EEE,VBIT),\n",
       " CollegeBranch(CSE,KMIT),\n",
       " CollegeBranch(AIM,CMRM),\n",
       " CollegeBranch(CSM,KMIT),\n",
       " CollegeBranch(CSI,MLID),\n",
       " CollegeBranch(MEC,CVSR),\n",
       " CollegeBranch(CSO,GCTC),\n",
       " CollegeBranch(ECE,MLRD),\n",
       " CollegeBranch(CIV,CMRK),\n",
       " CollegeBranch(CSD,KMIT),\n",
       " CollegeBranch(EEE,MLRD),\n",
       " CollegeBranch(CSE,JNKR),\n",
       " CollegeBranch(INF,KMIT),\n",
       " CollegeBranch(MEC,VBIT),\n",
       " CollegeBranch(ECE,CMRM),\n",
       " CollegeBranch(CIV,CVSR),\n",
       " CollegeBranch(CSE,BSKR),\n",
       " CollegeBranch(CHE,CVSR),\n",
       " CollegeBranch(CSM,BSKR),\n",
       " CollegeBranch(INF,JNKR),\n",
       " CollegeBranch(MEC,MLRD),\n",
       " CollegeBranch(ECE,MLID),\n",
       " CollegeBranch(ANE,MLRD),\n",
       " CollegeBranch(CIV,VBIT),\n",
       " CollegeBranch(EEE,MLID),\n",
       " CollegeBranch(CSE,KPRT),\n",
       " CollegeBranch(CSM,KPRT),\n",
       " CollegeBranch(ECE,GCTC),\n",
       " CollegeBranch(CSD,KPRT),\n",
       " CollegeBranch(EEE,GCTC),\n",
       " CollegeBranch(CSE,MLRS),\n",
       " CollegeBranch(CSM,MLRS),\n",
       " CollegeBranch(MEC,MLID),\n",
       " CollegeBranch(CSC,MLRS),\n",
       " CollegeBranch(ANE,MLID),\n",
       " CollegeBranch(CSD,MLRS),\n",
       " CollegeBranch(CSE,CMRG),\n",
       " CollegeBranch(CSM,CMRG),\n",
       " CollegeBranch(INF,MLRS),\n",
       " CollegeBranch(AID,BSKR),\n",
       " CollegeBranch(MEC,GCTC),\n",
       " CollegeBranch(ECE,JNKR),\n",
       " CollegeBranch(CSD,CMRG),\n",
       " CollegeBranch(EEE,JNKR),\n",
       " CollegeBranch(CSE,PALV),\n",
       " CollegeBranch(INF,CMRG),\n",
       " CollegeBranch(CSI,MLRS),\n",
       " CollegeBranch(CSC,PALV),\n",
       " CollegeBranch(ECE,BSKR),\n",
       " CollegeBranch(CIV,GCTC),\n",
       " CollegeBranch(CSD,PALV),\n",
       " CollegeBranch(CSE,KUWL),\n",
       " CollegeBranch(MEC,JNKR),\n",
       " CollegeBranch(ECE,KPRT),\n",
       " CollegeBranch(CSE,CMRN),\n",
       " CollegeBranch(AIM,CMRG),\n",
       " CollegeBranch(CSM,CMRN),\n",
       " CollegeBranch(CSC,CMRN),\n",
       " CollegeBranch(ECE,MLRS),\n",
       " CollegeBranch(CSD,CMRN),\n",
       " CollegeBranch(EEE,MLRS),\n",
       " CollegeBranch(CSE,JNTM),\n",
       " CollegeBranch(CSM,JNTM),\n",
       " CollegeBranch(INF,CMRN),\n",
       " CollegeBranch(ECE,CMRG),\n",
       " CollegeBranch(CSE,MECS),\n",
       " CollegeBranch(MEC,MLRS),\n",
       " CollegeBranch(ECE,PALV),\n",
       " CollegeBranch(CIV,KPRT),\n",
       " CollegeBranch(EEE,PALV),\n",
       " CollegeBranch(CSE,JNTS),\n",
       " CollegeBranch(INF,MECS),\n",
       " CollegeBranch(ECE,KUWL),\n",
       " CollegeBranch(CIV,MLRS),\n",
       " CollegeBranch(EEE,KUWL),\n",
       " CollegeBranch(CSE,NGIT),\n",
       " CollegeBranch(CSM,NGIT),\n",
       " CollegeBranch(ECE,CMRN),\n",
       " CollegeBranch(CSE,KMEC),\n",
       " CollegeBranch(CSM,KMEC),\n",
       " CollegeBranch(MEC,KUWL),\n",
       " CollegeBranch(CIV,PALV),\n",
       " CollegeBranch(EEE,JNTM),\n",
       " CollegeBranch(CSE,JNTR),\n",
       " CollegeBranch(ECE,MECS),\n",
       " CollegeBranch(EEE,MECS),\n",
       " CollegeBranch(MEC,JNTM),\n",
       " CollegeBranch(ECE,JNTS),\n",
       " CollegeBranch(MEC,MECS),\n",
       " CollegeBranch(CIV,JNTM),\n",
       " CollegeBranch(MEC,JNTS),\n",
       " CollegeBranch(CIV,MECS),\n",
       " CollegeBranch(ECE,JNTR),\n",
       " CollegeBranch(CIV,JNTS),\n",
       " CollegeBranch(EEE,JNTR),\n",
       " CollegeBranch(MEC,JNTR),\n",
       " CollegeBranch(MIN,JNTM),\n",
       " CollegeBranch(CIV,JNTR),\n",
       " CollegeBranch(TEX,JNTR)]"
      ]
     },
     "execution_count": 12,
     "metadata": {},
     "output_type": "execute_result"
    }
   ],
   "source": [
    "College.sort_branches(\"year\")"
   ]
  },
  {
   "cell_type": "code",
   "execution_count": 8,
   "metadata": {},
   "outputs": [
    {
     "data": {
      "text/plain": [
       "(College(KMIT), College(OUCE), College(OUCT))"
      ]
     },
     "execution_count": 8,
     "metadata": {},
     "output_type": "execute_result"
    }
   ],
   "source": []
  },
  {
   "cell_type": "code",
   "execution_count": 26,
   "metadata": {},
   "outputs": [
    {
     "name": "stdout",
     "output_type": "stream",
     "text": [
      "CSE 1\n",
      "CSM 2\n",
      "INF 6\n",
      "ECE 19\n",
      "EEE 20\n",
      "MEC 26\n",
      "CIV 31\n"
     ]
    }
   ],
   "source": [
    "for branch in VASV.branches:\n",
    "    print(branch.code,branch.position)"
   ]
  }
 ],
 "metadata": {
  "kernelspec": {
   "display_name": "Python 3.10.0 64-bit",
   "language": "python",
   "name": "python3"
  },
  "language_info": {
   "codemirror_mode": {
    "name": "ipython",
    "version": 3
   },
   "file_extension": ".py",
   "mimetype": "text/x-python",
   "name": "python",
   "nbconvert_exporter": "python",
   "pygments_lexer": "ipython3",
   "version": "3.10.0"
  },
  "orig_nbformat": 4,
  "vscode": {
   "interpreter": {
    "hash": "9a9adbe50f5b66d1924ecd606908d9115b4173a4f8639c57f7ea543fa8859483"
   }
  }
 },
 "nbformat": 4,
 "nbformat_minor": 2
}
