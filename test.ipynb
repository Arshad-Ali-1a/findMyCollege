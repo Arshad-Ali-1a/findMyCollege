{
 "cells": [
  {
   "cell_type": "code",
   "execution_count": 1,
   "metadata": {},
   "outputs": [],
   "source": [
    "from colleges import *"
   ]
  },
  {
   "cell_type": "code",
   "execution_count": 2,
   "metadata": {},
   "outputs": [
    {
     "name": "stdout",
     "output_type": "stream",
     "text": [
      "{'MGIT': College(MGIT), 'KMIT': College(KMIT), 'VMEG': College(VMEG), 'IARE': College(IARE), 'MVSR': College(MVSR), 'SNIS': College(SNIS), 'JNKR': College(JNKR), 'KITS': College(KITS), 'KUCE': College(KUCE), 'CMRN': College(CMRN), 'CMRM': College(CMRM), 'SRHP': College(SRHP), 'VBIT': College(VBIT), 'MRTN': College(MRTN), 'KMEC': College(KMEC), 'JBIT': College(JBIT), 'INDU': College(INDU), 'MLRS': College(MLRS), 'CMRG': College(CMRG), 'VGNT': College(VGNT), 'OUCE': College(OUCE), 'CBIT': College(CBIT), 'JNTH': College(JNTH), 'JNTHMT': College(JNTHMT), 'VASV': College(VASV), 'VJEC': College(VJEC), 'CVRH': College(CVRH), 'BVRI': College(BVRI), 'GRRR': College(GRRR), 'JNTS': College(JNTS), 'MLRD': College(MLRD), 'JOGI': College(JOGI), 'OUCT': College(OUCT), 'CMRK': College(CMRK), 'VJIT': College(VJIT), 'JNTM': College(JNTM), 'PALV': College(PALV), 'KPRT': College(KPRT), 'BSKR': College(BSKR), 'CVSR': College(CVSR), 'MECS': College(MECS), 'KUWL': College(KUWL), 'NGIT': College(NGIT), 'GNIT': College(GNIT), 'MLID': College(MLID), 'JNTR': College(JNTR), 'GCTC': College(GCTC), 'VAGE': College(VAGE)}\n"
     ]
    }
   ],
   "source": [
    "print(College.instances)"
   ]
  },
  {
   "cell_type": "code",
   "execution_count": 3,
   "metadata": {},
   "outputs": [
    {
     "name": "stdout",
     "output_type": "stream",
     "text": [
      "MGIT MAHATMA GANDHI INSTITUTE OF TECHNOLOGY\n",
      "KMIT KESHAV MEMORIAL INST OF TECHNOLOGY\n",
      "VMEG VARDHAMAN COLLEGE OF ENGINEERING\n",
      "IARE INSTITUTE OF AERONAUTICAL ENGINEERING\n",
      "MVSR M V S R ENGINEERING COLLEGE (AUTONOMOUS)\n",
      "SNIS SRINIDHI INSTITUTE OF SCI AND TECHNOLOGY\n",
      "JNKR JNTUH UNIVERSITY COLLEGE OF ENGINEERING JAGITIAL\n",
      "KITS KAKATIYA INSTITUTE OF TECHNOLOGY AND SCI\n",
      "KUCE K U COLLEGE OF ENGG KOTHAGUDEM\n",
      "CMRN CMR ENGG COLLEGE (AUTONOMOUS)\n",
      "CMRM CMR INSTITUTE OF TECHNOLOGY (AUTONOMOUS)\n",
      "SRHP SR UNIVERSITY ( FORMERLY S R ENGINEERING COLLEGE)\n",
      "VBIT VIGNAN BHARATI INSTITUTE OF TECHNOLOGY (AUTONOMOUS)\n",
      "MRTN ST MARTINS ENGINEERING COLLEGE (AUTONOMOUS)\n",
      "KMEC KESHAV MEMORIAL ENGINEERING COLLEGE\n",
      "JBIT J B INSTITUTE OF ENGG AND TECHNOLOGY (AUTONOMOUS)\n",
      "INDU SRI INDU COLLEGE OF ENGG AND TECHNOLOGY (AUTONOMOUS)\n",
      "MLRS MARRI LAXMAN REDDY INST OF TECHNOLOGY AND MANAGEMENT (AUTONOMOUS)\n",
      "CMRG CMR TECHNICAL CAMPUS (AUTONOMOUS)\n",
      "VGNT VIGNAN INSTITUTE OF TECHNOLOGY AND SCI\n",
      "OUCE O U COLLEGE OF ENGG HYDERABAD\n",
      "CBIT CHAITANYA BHARATHI INSTITUTE OF TECHNOLOGY\n",
      "JNTH JNTUH UNIVERSITY COLLEGE OF ENGG HYDERABAD\n",
      "JNTHMT JNTUH UNIVERSITY COLLEGE OF ENGG -5 YEAR INTEGRATED MTECH SELF FINANCE\n",
      "VASV VASAVI COLLEGE OF ENGINEERING\n",
      "VJEC V N R VIGNANA JYOTHI INSTITUTE OF ENGG AND TECH\n",
      "CVRH CVR COLLEGE OF ENGINEERING\n",
      "BVRI B V RAJU INSTITUTE OF TECHNOLOGY\n",
      "GRRR GOKARAJU RANGARAJU INSTITUTE OF ENGG AND TECH\n",
      "JNTS JNTUH UNIVERSITY COLLEGE OF ENGINEERING SULTANPUR\n",
      "MLRD MALLA REDDY COLLEGE OF ENGG TECHNOLOGY (AUTONOMOUS)\n",
      "JOGI JOGINPALLY B R ENGINEERING COLLEGE\n",
      "OUCT O U COLLEGE OF TECH HYDERABAD\n",
      "CMRK C M R COLLEGE OF ENGG AND TECHNOLOGY (AUTONOMOUS)\n",
      "VJIT VIDYAJYOTHI INSTITUTE OF TECHNOLOGY\n",
      "JNTM JNTUH UNIVERSITY COLLEGE OF ENGG MANTHANI\n",
      "PALV PALLAVI ENGINEERING COLLEGE\n",
      "KPRT KOMMURI PRATAP REDDY INST OF TECHNOLOGY (AUTONOMOUS)\n",
      "BSKR BHASKAR ENGINEERING COLLEGE\n",
      "CVSR ANURAG UNIVERSITY (FORMERLY ANURAG GRP OF INSTNS- CVSR COLL OF ENGG)\n",
      "MECS MATRUSRI ENGINEERING COLLEGE\n",
      "KUWL KU COLLEGE OF ENGINEERING AND TECHNOLOGY\n",
      "NGIT NEIL GOGTE INST OF TECHNOLOGY\n",
      "GNIT GURU NANAK INSTITUTIONS TECHNICAL CAMPUS (AUTONOMOUS)\n",
      "MLID M L R INSTITUTE OF TECHNOLOGY (AUTONOMOUS)\n",
      "JNTR JNTUH UNIVERSITY COLLEGE OF ENGINEERING RAJANNA SIRCILLA\n",
      "GCTC GEETANJALI COLLEGE OF ENGG AND TECHNOLOGY (AUTONOMOUS)\n",
      "VAGE VAAGDEVI COLLEGE OF ENGINEERING\n"
     ]
    }
   ],
   "source": [
    "for college in College.instances.values():\n",
    "    print(college,college.name)"
   ]
  },
  {
   "cell_type": "code",
   "execution_count": 5,
   "metadata": {},
   "outputs": [
    {
     "data": {
      "text/plain": [
       "{'code': 'VASV',\n",
       " 'college': 'VASAVI COLLEGE OF ENGINEERING',\n",
       " 'coed': True,\n",
       " 'minority': None,\n",
       " 'region': 'OU',\n",
       " 'aided': False,\n",
       " 'pvt': True,\n",
       " 'phone': '040-23146002',\n",
       " 'address': 'IBRAHIMBAGH,500031',\n",
       " 'place': 'HYDERABAD',\n",
       " 'hostel': None,\n",
       " 'district': 'HYDERABAD',\n",
       " 'year': 1981,\n",
       " 'email': 'principal@staff.vce.ac.in',\n",
       " 'affiliated': 'OU',\n",
       " 'website': 'https://www.vce.ac.in',\n",
       " 'fees': 130000,\n",
       " 'total_intake': 780,\n",
       " 'coordinates': [17.381510949467735, 78.38265717006458],\n",
       " 'branches': (CollegeBranch(CSE,VASV),\n",
       "  CollegeBranch(CSM,VASV),\n",
       "  CollegeBranch(INF,VASV),\n",
       "  CollegeBranch(ECE,VASV),\n",
       "  CollegeBranch(EEE,VASV),\n",
       "  CollegeBranch(MEC,VASV),\n",
       "  CollegeBranch(CIV,VASV)),\n",
       " 'closing_rank': 1118}"
      ]
     },
     "execution_count": 5,
     "metadata": {},
     "output_type": "execute_result"
    }
   ],
   "source": [
    "VASV.eamcet_info"
   ]
  },
  {
   "cell_type": "code",
   "execution_count": 6,
   "metadata": {},
   "outputs": [
    {
     "name": "stdout",
     "output_type": "stream",
     "text": [
      "CSE:KMIT 420\n",
      "CSM:KMIT 180\n",
      "CSD:KMIT 60\n",
      "INF:KMIT 120\n"
     ]
    }
   ],
   "source": [
    "for branch in KMIT.branches:\n",
    "    print(branch,branch.intake)"
   ]
  },
  {
   "cell_type": "code",
   "execution_count": 8,
   "metadata": {},
   "outputs": [
    {
     "data": {
      "text/plain": [
       "{'OC BOYS': 4830,\n",
       " 'OC GIRLS': 5093,\n",
       " 'BC_A BOYS': 19524,\n",
       " 'BC_A GIRLS': 19524,\n",
       " 'BC_B BOYS': 43789,\n",
       " 'BC_B GIRLS': 43789,\n",
       " 'BC_C BOYS': 21184,\n",
       " 'BC_C GIRLS': 21184,\n",
       " 'BC_D BOYS': 8295,\n",
       " 'BC_D GIRLS': 9217,\n",
       " 'BC_E BOYS': 13829,\n",
       " 'BC_E GIRLS': 17872,\n",
       " 'SC BOYS': 33567,\n",
       " 'SC GIRLS': 35774,\n",
       " 'ST BOYS': 20663,\n",
       " 'ST GIRLS': 33494}"
      ]
     },
     "execution_count": 8,
     "metadata": {},
     "output_type": "execute_result"
    }
   ],
   "source": [
    "KMIT.branches[0].clsrnk20"
   ]
  },
  {
   "cell_type": "code",
   "execution_count": 9,
   "metadata": {},
   "outputs": [
    {
     "data": {
      "text/plain": [
       "{'CSE': {'branch_name': 'COMPUTER SCIENCE AND ENGINEERING',\n",
       "  'branch_category': 'COMPUTER'},\n",
       " 'CSM': {'branch_name': 'COMPUTER SCIENCE AND ENGINEERING (ARTIFICIAL INTELLIGENCE AND MACHINE LEARNING)',\n",
       "  'branch_category': 'COMPUTER'},\n",
       " 'CSC': {'branch_name': 'COMPUTER SCIENCE AND ENGINEERING (CYBER SECURITY)',\n",
       "  'branch_category': 'COMPUTER'},\n",
       " 'CSD': {'branch_name': 'COMPUTER SCIENCE AND ENGINEERING (DATA SCIENCE)',\n",
       "  'branch_category': 'COMPUTER'},\n",
       " 'CIC': {'branch_name': 'CSE (IoT AND CYBER SECURITY INCLUDING BLOCK CHAIN TECHNOLOGY)',\n",
       "  'branch_category': 'COMPUTER'},\n",
       " 'INF': {'branch_name': 'INFORMATION TECHNOLOGY',\n",
       "  'branch_category': 'COMPUTER'},\n",
       " 'CSO': {'branch_name': 'COMPUTER SCIENCE AND ENGINEERING (IOT)',\n",
       "  'branch_category': 'COMPUTER'},\n",
       " 'CSN': {'branch_name': 'COMPUTER SCIENCE & ENGINEERING (NETWORKS)',\n",
       "  'branch_category': 'COMPUTER'},\n",
       " 'CSB': {'branch_name': 'COMPUTER SCIENCE AND BUSINESS SYSTEM',\n",
       "  'branch_category': 'COMPUTER_2'},\n",
       " 'CSI': {'branch_name': 'COMPUTER SCIENCE AND INFORMATION TECHNOLOGY',\n",
       "  'branch_category': 'COMPUTER_2'},\n",
       " 'CST': {'branch_name': 'COMPUTER SCIENCE AND TECHNOLOGY',\n",
       "  'branch_category': 'COMPUTER_2'},\n",
       " 'AI': {'branch_name': 'ARTIFICIAL INTELLIGENCE',\n",
       "  'branch_category': 'COMPUTER_2'},\n",
       " 'AIM': {'branch_name': 'ARTIFICIAL INTELLIGENCE AND MACHINE LEARNING',\n",
       "  'branch_category': 'COMPUTER_2'},\n",
       " 'AID': {'branch_name': 'ARTIFICIAL INTELLIGENCE AND DATA SCIENCE',\n",
       "  'branch_category': 'COMPUTER_2'},\n",
       " 'CSG': {'branch_name': 'COMPUTER SCIENCE & DESIGN',\n",
       "  'branch_category': 'COMPUTER_2'},\n",
       " 'CME': {'branch_name': 'COMPUTER ENGINEERING',\n",
       "  'branch_category': 'COMPUTER_2'},\n",
       " 'CSW': {'branch_name': 'COMPUTER ENGINEERING(SOFTWARE ENGINEERING)',\n",
       "  'branch_category': 'COMPUTER_2'},\n",
       " 'ITE': {'branch_name': 'INFORMATION TECHNOLOGY AND ENGINEERING',\n",
       "  'branch_category': 'COMPUTER_2'},\n",
       " 'ECE': {'branch_name': 'ELECTRONICS AND COMMUNICATION ENGINEERING',\n",
       "  'branch_category': 'ELECTRICAL'},\n",
       " 'EEE': {'branch_name': 'ELECTRICAL AND ELECTRONICS ENGINEERING',\n",
       "  'branch_category': 'ELECTRICAL'},\n",
       " 'EIE': {'branch_name': 'ELECTRONICS AND INSTRUMENTATION ENGINEERING',\n",
       "  'branch_category': 'ELECTRICAL'},\n",
       " 'ECM': {'branch_name': 'ELECTRONICS AND COMPUTER ENGINEERING',\n",
       "  'branch_category': 'ELECTRICAL_2'},\n",
       " 'ECI': {'branch_name': 'ELECTRONICS COMMUNICATION AND INSTRUMENTATION ENGINEERING',\n",
       "  'branch_category': 'ELECTRICAL_2'},\n",
       " 'ETM': {'branch_name': 'ELECTRONICS AND TELEMATICS',\n",
       "  'branch_category': 'ELECTRICAL_2'},\n",
       " 'DTD': {'branch_name': 'DIGITAL TECHNIQUES FOR DESIGN AND PLANNING',\n",
       "  'branch_category': 'COMPUTER_3'},\n",
       " 'MEC': {'branch_name': 'MECHANICAL ENGINEERING',\n",
       "  'branch_category': 'MECHANICAL'},\n",
       " 'ANE': {'branch_name': 'AERONAUTICAL ENGINEERING',\n",
       "  'branch_category': 'MECHANICAL'},\n",
       " 'MCT': {'branch_name': 'MECHANICAL (MECHTRONICS) ENGINEERING',\n",
       "  'branch_category': 'MECHANICAL'},\n",
       " 'ARB': {'branch_name': 'AUTOMATION AND ROBOTICS',\n",
       "  'branch_category': 'MECHANICAL_2'},\n",
       " 'AUT': {'branch_name': 'AUTOMOBILE ENGINEERING',\n",
       "  'branch_category': 'MECHANICAL_2'},\n",
       " 'CIV': {'branch_name': 'CIVIL ENGINEERING', 'branch_category': 'MECHANICAL'},\n",
       " 'BIO': {'branch_name': 'BIO-TECHNOLOGY', 'branch_category': 'CHEMICAL'},\n",
       " 'CHE': {'branch_name': 'CHEMICAL ENGINEERING', 'branch_category': 'CHEMICAL'},\n",
       " 'BME': {'branch_name': 'BIO-MEDICAL ENGINEERING',\n",
       "  'branch_category': 'CHEMICAL'},\n",
       " 'IPE': {'branch_name': 'INDUSTRIAL PRODUCTION ENGINEERING',\n",
       "  'branch_category': 'MECHANICAL_2'},\n",
       " 'MET': {'branch_name': 'METALLURGICAL ENGINEERING',\n",
       "  'branch_category': 'MECHANICAL_2'},\n",
       " 'MMT': {'branch_name': 'METALLURGY AND MATERIAL ENGINEERING',\n",
       "  'branch_category': 'MECHANICAL_2'},\n",
       " 'MMS': {'branch_name': 'BTECH MECHANICAL WITH MTECH MANUFACTURING SYSTEMS',\n",
       "  'branch_category': 'MECHANICAL_2'},\n",
       " 'MTE': {'branch_name': 'BTECH MECHANICAL WITH MTECH THERMAL ENGG',\n",
       "  'branch_category': 'MECHANICAL_2'},\n",
       " 'PLG': {'branch_name': 'PLANNING', 'branch_category': 'MECHANICAL_2'},\n",
       " 'AGR': {'branch_name': 'AGRICULTURAL ENGINEERING',\n",
       "  'branch_category': 'CHEMICAL'},\n",
       " 'DRG': {'branch_name': 'DAIRYING', 'branch_category': 'CHEMICAL'},\n",
       " 'FDT': {'branch_name': 'FOOD TECHNOLOGY', 'branch_category': 'CHEMICAL'},\n",
       " 'TEX': {'branch_name': 'TEXTILE TECHNOLOGY', 'branch_category': 'CHEMICAL'},\n",
       " 'FSP': {'branch_name': 'FACILITIES AND SERVICES PLANNING',\n",
       "  'branch_category': 'CHEMICAL'},\n",
       " 'PHE': {'branch_name': 'PHARMACEUTICAL ENGINEERING',\n",
       "  'branch_category': 'CHEMICAL'},\n",
       " 'MIN': {'branch_name': 'MINING ENGINEERING', 'branch_category': 'CHEMICAL'},\n",
       " 'PHM': {'branch_name': 'B. PHARMACY (M.P.C. STREAM)',\n",
       "  'branch_category': 'PHARMACY'},\n",
       " 'PHD': {'branch_name': 'PHARM - D (M.P.C. STREAM)',\n",
       "  'branch_category': 'PHARMACY'}}"
      ]
     },
     "execution_count": 9,
     "metadata": {},
     "output_type": "execute_result"
    }
   ],
   "source": [
    "CollegeBranch.all_branches"
   ]
  },
  {
   "cell_type": "code",
   "execution_count": 10,
   "metadata": {},
   "outputs": [
    {
     "data": {
      "text/plain": [
       "{'highest_salary': 44.0,\n",
       " 'lowest_salary': 3.0,\n",
       " 'salary_mode': 4.0,\n",
       " 'salary_mean': 6.86820415879017,\n",
       " 'salary_median': 5.5,\n",
       " 'total_offers': 1058,\n",
       " 'compaies_visited': 110,\n",
       " 'placement_data_year': 2022,\n",
       " 'placement_percent': 135.64}"
      ]
     },
     "execution_count": 10,
     "metadata": {},
     "output_type": "execute_result"
    }
   ],
   "source": [
    "KMIT.placement_info"
   ]
  },
  {
   "cell_type": "code",
   "execution_count": 11,
   "metadata": {},
   "outputs": [
    {
     "data": {
      "text/plain": [
       "('placement_percent',\n",
       " 'highest_salary',\n",
       " 'lowest_salary',\n",
       " 'salary_mode',\n",
       " 'salary_mean',\n",
       " 'salary_median',\n",
       " 'total_offers',\n",
       " 'companies_visited',\n",
       " 'year',\n",
       " 'total_intake',\n",
       " 'fees',\n",
       " 'probability',\n",
       " 'closing_rank',\n",
       " 'distance')"
      ]
     },
     "execution_count": 11,
     "metadata": {},
     "output_type": "execute_result"
    }
   ],
   "source": [
    "College.SORTING_KEYS"
   ]
  },
  {
   "cell_type": "code",
   "execution_count": 21,
   "metadata": {},
   "outputs": [
    {
     "data": {
      "text/plain": [
       "'KAKATIYA INSTITUTE OF TECHNOLOGY AND SCI'"
      ]
     },
     "execution_count": 21,
     "metadata": {},
     "output_type": "execute_result"
    }
   ],
   "source": [
    "KITS.name"
   ]
  },
  {
   "cell_type": "code",
   "execution_count": 19,
   "metadata": {},
   "outputs": [
    {
     "name": "stdout",
     "output_type": "stream",
     "text": [
      "VASV 9.55\n",
      "KMIT 13.522\n",
      "VJIT 15.755\n",
      "MGIT 15.794\n",
      "OUCE 17.186\n",
      "JBIT 18.736\n",
      "BSKR 18.826\n",
      "JOGI 19.428\n",
      "OUCT 20.443\n",
      "JNTH 20.792\n",
      "JNTHMT 20.792\n",
      "CBIT 20.961\n",
      "MVSR 21.625\n",
      "VMEG 22.101\n",
      "PALV 29.627\n",
      "MRTN 30.97\n",
      "MLRD 31.389\n",
      "GRRR 33.302\n",
      "NGIT 33.613\n",
      "KMEC 33.619\n",
      "MECS 35.584\n",
      "GCTC 36.398\n",
      "CMRN 36.688\n",
      "CMRK 36.912\n",
      "CMRM 36.975\n",
      "CMRG 36.975\n",
      "INDU 46.489\n",
      "CVRH 48.647\n",
      "GNIT 55.259\n",
      "VJEC 56.953\n",
      "IARE 61.911\n",
      "MLRS 64.575\n",
      "MLID 64.577\n",
      "VGNT 66.104\n",
      "JNTS 71.14\n",
      "BVRI 72.242\n",
      "KPRT 73.001\n",
      "SNIS 73.498\n",
      "CVSR 75.076\n",
      "VBIT 77.913\n",
      "JNTR 153.12\n",
      "JNKR 187.029\n",
      "KITS 193.289\n",
      "KUWL 194.83\n",
      "VAGE 201.258\n",
      "SRHP 210.491\n",
      "JNTM 225.65\n",
      "KUCE 325.655\n"
     ]
    }
   ],
   "source": [
    "for college in College.sort_colleges(\"distance\"):\n",
    "    print(college,college.distance)"
   ]
  },
  {
   "cell_type": "code",
   "execution_count": 15,
   "metadata": {},
   "outputs": [
    {
     "data": {
      "text/plain": [
       "{'coed': (True, False),\n",
       " 'aided': (True, False),\n",
       " 'pvt': (True, False),\n",
       " 'affiliated': ('JNTUH', 'OU', 'KU', 'SR UNIVERSITY', 'ANURAG UNIVERSITY'),\n",
       " 'year_before': (1925, 2021),\n",
       " 'hostel': ((True, False), 'gender'),\n",
       " 'total_intake_greater': (149, 1740),\n",
       " 'total_intake_lesser': (149, 1740),\n",
       " 'fees_greater': (35000, 140000),\n",
       " 'fees_lesser': (35000, 140000),\n",
       " 'salary_mean_greater': (2.9, 7.14),\n",
       " 'salary_median_greater': (2.87, 6.5),\n",
       " 'salary_mode_greater': (2.87, 11.75),\n",
       " 'highest_salary_greater': (3.5, 97),\n",
       " 'total_offers_greater': (25, 2472),\n",
       " 'companies_visited_greater': (7, 154),\n",
       " 'district_in': ('HYDERABAD',\n",
       "  'JAGTIAL',\n",
       "  'SANGAREDDY',\n",
       "  'PEDDAPALLI',\n",
       "  'YADADRI BHUVANAGIRI',\n",
       "  'WARANGAL',\n",
       "  'HANAMKONDA',\n",
       "  'BHADRADRI KOTHAGUDEM',\n",
       "  'RAJANNA SIRCILLA',\n",
       "  'RANGAREDDY',\n",
       "  'MEDCHAL',\n",
       "  'MEDAK'),\n",
       " 'distance_college_lesser': 'in km',\n",
       " 'probability_college_greater': (1, 100)}"
      ]
     },
     "execution_count": 15,
     "metadata": {},
     "output_type": "execute_result"
    }
   ],
   "source": [
    "College.FILTER_KEYS"
   ]
  },
  {
   "cell_type": "code",
   "execution_count": 15,
   "metadata": {},
   "outputs": [
    {
     "name": "stdout",
     "output_type": "stream",
     "text": [
      "KMIT HYDERABAD 44.0\n",
      "MVSR RANGAREDDY 14.95\n",
      "INDU RANGAREDDY None\n",
      "VASV HYDERABAD 61.0\n",
      "VJIT RANGAREDDY 16.0\n",
      "MECS HYDERABAD None\n"
     ]
    }
   ],
   "source": [
    "for college in College.filter_colleges(district_in=[\"HYDERABAD\",\"WARANGAL\",\"SANGAREDDY\",\"RANGAREDDY\"],hostel=(False,\"Boys\")):\n",
    "    print(college,college.district,college.highest_salary)"
   ]
  },
  {
   "cell_type": "code",
   "execution_count": null,
   "metadata": {},
   "outputs": [],
   "source": [
    "Branch.all_branches_category"
   ]
  },
  {
   "cell_type": "code",
   "execution_count": 23,
   "metadata": {},
   "outputs": [
    {
     "name": "stdout",
     "output_type": "stream",
     "text": [
      "MGIT 99.0\n",
      "KMIT 49.0\n",
      "VMEG 99.0\n",
      "IARE 99.0\n",
      "MVSR 99.0\n",
      "SNIS 99.0\n",
      "JNKR 82.33\n",
      "KITS 99.0\n",
      "KUCE 99.0\n",
      "CMRN 99.0\n",
      "CMRM 99.0\n",
      "SRHP 99.0\n",
      "VBIT 99.0\n",
      "MRTN 99.0\n",
      "KMEC 99.0\n",
      "JBIT 99.0\n",
      "INDU 99.0\n",
      "MLRS 99.0\n",
      "CMRG 99.0\n",
      "VGNT 99.0\n",
      "OUCE 24.0\n",
      "CBIT 32.33\n",
      "JNTH 15.670000000000002\n",
      "JNTHMT 32.33\n",
      "VASV 65.67\n",
      "VJEC 99.0\n",
      "CVRH 99.0\n",
      "BVRI 99.0\n",
      "GRRR 99.0\n",
      "JNTS 99.0\n",
      "MLRD 99.0\n",
      "JOGI 99.0\n",
      "OUCT 0\n",
      "CMRK 99.0\n",
      "VJIT 99.0\n",
      "JNTM 99.0\n",
      "PALV 99.0\n",
      "KPRT 99.0\n",
      "BSKR 99.0\n",
      "CVSR 99.0\n",
      "MECS 99.0\n",
      "KUWL 99.0\n",
      "NGIT 99.0\n",
      "GNIT 99.0\n",
      "MLID 99.0\n",
      "JNTR 99.0\n",
      "GCTC 99.0\n",
      "VAGE 99.0\n"
     ]
    }
   ],
   "source": [
    "College.chance_college(12000,\"Boys\",\"BC_E\",[\"COMPUTER\",\"MECHANICAL\",\"ELECTRICAL\"])\n",
    "\n",
    "for college in College.instances.values():\n",
    "    print(college,college.probability)"
   ]
  },
  {
   "cell_type": "code",
   "execution_count": 18,
   "metadata": {},
   "outputs": [
    {
     "data": {
      "text/plain": [
       "(College(KMIT), College(VASV))"
      ]
     },
     "execution_count": 18,
     "metadata": {},
     "output_type": "execute_result"
    }
   ],
   "source": [
    "College.calculate_dist((17.35143652269132, 78.41886422799696))"
   ]
  },
  {
   "cell_type": "code",
   "execution_count": 24,
   "metadata": {},
   "outputs": [
    {
     "data": {
      "image/png": "[encoded data removed]",
      "text/plain": [
       "<Figure size 1530x1190 with 1 Axes>"
      ]
     },
     "metadata": {},
     "output_type": "display_data"
    }
   ],
   "source": [
    "College.graph(\"highest_salary\")"
   ]
  },
  {
   "cell_type": "code",
   "execution_count": null,
   "metadata": {},
   "outputs": [],
   "source": [
    "for i in College.filter_colleges(district_in=(\"WARANGAL\",\"HYDERABAD\",\"HANAMKONDA\"),highest_salary_greater=22.5):\n",
    "    print(i,(i.highest_salary))"
   ]
  },
  {
   "cell_type": "code",
   "execution_count": null,
   "metadata": {},
   "outputs": [],
   "source": [
    "College.sort_branches(\"year\")"
   ]
  },
  {
   "cell_type": "code",
   "execution_count": null,
   "metadata": {},
   "outputs": [],
   "source": []
  },
  {
   "cell_type": "code",
   "execution_count": null,
   "metadata": {},
   "outputs": [],
   "source": [
    "for branch in VASV.branches:\n",
    "    print(branch.code,branch.position)"
   ]
  },
  {
   "cell_type": "code",
   "execution_count": 1,
   "metadata": {},
   "outputs": [],
   "source": [
    "from colleges import KMIT,CBIT"
   ]
  },
  {
   "cell_type": "code",
   "execution_count": 5,
   "metadata": {},
   "outputs": [
    {
     "data": {
      "text/plain": [
       "True"
      ]
     },
     "execution_count": 5,
     "metadata": {},
     "output_type": "execute_result"
    }
   ],
   "source": [
    "CBIT.pvt"
   ]
  }
 ],
 "metadata": {
  "kernelspec": {
   "display_name": "Python 3.10.0 64-bit",
   "language": "python",
   "name": "python3"
  },
  "language_info": {
   "codemirror_mode": {
    "name": "ipython",
    "version": 3
   },
   "file_extension": ".py",
   "mimetype": "text/x-python",
   "name": "python",
   "nbconvert_exporter": "python",
   "pygments_lexer": "ipython3",
   "version": "3.10.0"
  },
  "orig_nbformat": 4,
  "vscode": {
   "interpreter": {
    "hash": "9a9adbe50f5b66d1924ecd606908d9115b4173a4f8639c57f7ea543fa8859483"
   }
  }
 },
 "nbformat": 4,
 "nbformat_minor": 2
}
