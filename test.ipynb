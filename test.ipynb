{
 "cells": [
  {
   "cell_type": "code",
   "execution_count": 1,
   "metadata": {},
   "outputs": [],
   "source": [
    "from colleges import *"
   ]
  },
  {
   "cell_type": "code",
   "execution_count": 4,
   "metadata": {},
   "outputs": [
    {
     "data": {
      "text/plain": [
       "[College(JNTH),\n",
       " College(OUCE),\n",
       " College(CBIT),\n",
       " College(VASV),\n",
       " College(JNTHMT),\n",
       " College(VJEC),\n",
       " College(CVRH),\n",
       " College(GRRR),\n",
       " College(SNIS),\n",
       " College(MVSR),\n",
       " College(MGIT),\n",
       " College(KMIT),\n",
       " College(VMEG),\n",
       " College(BVRI),\n",
       " College(JNTS),\n",
       " College(JNKR),\n",
       " College(CVSR),\n",
       " College(MECS),\n",
       " College(IARE),\n",
       " College(KITS),\n",
       " College(CMRK),\n",
       " College(KUWL),\n",
       " College(NGIT),\n",
       " College(JNTM),\n",
       " College(GNIT),\n",
       " College(JNTR),\n",
       " College(MLID),\n",
       " College(VJIT),\n",
       " College(MLRD),\n",
       " College(GCTC),\n",
       " College(JBIT),\n",
       " College(CMRM),\n",
       " College(SRHP),\n",
       " College(OUCT),\n",
       " College(VBIT),\n",
       " College(KUCE),\n",
       " College(MLRS),\n",
       " College(CMRG),\n",
       " College(KMEC),\n",
       " College(MRTN),\n",
       " College(CMRN),\n",
       " College(INDU),\n",
       " College(VGNT),\n",
       " College(BSKR),\n",
       " College(VAGE),\n",
       " College(JOGI),\n",
       " College(PALV),\n",
       " College(KPRT)]"
      ]
     },
     "execution_count": 4,
     "metadata": {},
     "output_type": "execute_result"
    }
   ],
   "source": [
    "College.sort_colleges(\"closing_ranks\")"
   ]
  },
  {
   "cell_type": "code",
   "execution_count": 6,
   "metadata": {},
   "outputs": [
    {
     "data": {
      "text/plain": [
       "{'OC BOYS': 741,\n",
       " 'OC GIRLS': 876,\n",
       " 'BC_A BOYS': 2334,\n",
       " 'BC_A GIRLS': 2371,\n",
       " 'BC_B BOYS': 1067,\n",
       " 'BC_B GIRLS': 1207,\n",
       " 'BC_C BOYS': 3530,\n",
       " 'BC_C GIRLS': 7751,\n",
       " 'BC_D BOYS': 1367,\n",
       " 'BC_D GIRLS': 2017,\n",
       " 'BC_E BOYS': 1514,\n",
       " 'BC_E GIRLS': 1637,\n",
       " 'SC BOYS': 4628,\n",
       " 'SC GIRLS': 6408,\n",
       " 'ST BOYS': 2122,\n",
       " 'ST GIRLS': 5516}"
      ]
     },
     "execution_count": 6,
     "metadata": {},
     "output_type": "execute_result"
    }
   ],
   "source": [
    "CBIT.branches[0].clsrnk21"
   ]
  }
 ],
 "metadata": {
  "kernelspec": {
   "display_name": "Python 3.10.0 64-bit",
   "language": "python",
   "name": "python3"
  },
  "language_info": {
   "codemirror_mode": {
    "name": "ipython",
    "version": 3
   },
   "file_extension": ".py",
   "mimetype": "text/x-python",
   "name": "python",
   "nbconvert_exporter": "python",
   "pygments_lexer": "ipython3",
   "version": "3.10.0"
  },
  "orig_nbformat": 4,
  "vscode": {
   "interpreter": {
    "hash": "9a9adbe50f5b66d1924ecd606908d9115b4173a4f8639c57f7ea543fa8859483"
   }
  }
 },
 "nbformat": 4,
 "nbformat_minor": 2
}
